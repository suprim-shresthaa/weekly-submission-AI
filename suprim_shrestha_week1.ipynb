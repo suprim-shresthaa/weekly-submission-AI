{
  "nbformat": 4,
  "nbformat_minor": 0,
  "metadata": {
    "colab": {
      "provenance": []
    },
    "kernelspec": {
      "name": "python3",
      "display_name": "Python 3"
    },
    "language_info": {
      "name": "python"
    }
  },
  "cells": [
    {
      "cell_type": "code",
      "execution_count": null,
      "metadata": {
        "colab": {
          "base_uri": "https://localhost:8080/"
        },
        "id": "RB2IpSMJLO_0",
        "outputId": "97113bef-ee90-4f7a-89f5-7655fc36805b"
      },
      "outputs": [
        {
          "output_type": "stream",
          "name": "stdout",
          "text": [
            "[0, 0]\n",
            "[0, 0]\n"
          ]
        }
      ],
      "source": [
        "#1Initialize an empty array with size 2X2.\n",
        "# Initialize a 2x2 array\n",
        "array = [[0, 0], [0, 0]]  # Optionally, you can initialize with zeros\n",
        "\n",
        "# Print the array to verify initialization\n",
        "for row in array:\n",
        "    print(row)\n"
      ]
    },
    {
      "cell_type": "code",
      "source": [
        "#2. Initialize an all one array with size 4X2.\n",
        "import numpy as np\n",
        "\n",
        "# Initialize a 4x2 array filled with ones\n",
        "array = np.ones((4, 2))\n",
        "\n",
        "# Print the array to verify initialization\n",
        "print(array)"
      ],
      "metadata": {
        "colab": {
          "base_uri": "https://localhost:8080/"
        },
        "id": "ZDWOQ1obLuws",
        "outputId": "d359d643-5b18-48f8-f523-e00f9748973d"
      },
      "execution_count": null,
      "outputs": [
        {
          "output_type": "stream",
          "name": "stdout",
          "text": [
            "[[1. 1.]\n",
            " [1. 1.]\n",
            " [1. 1.]\n",
            " [1. 1.]]\n"
          ]
        }
      ]
    },
    {
      "cell_type": "code",
      "source": [
        "#3Return a new array of given shape and type, filled with fill value.{Hint: np.full}\n",
        "shape = (3, 3)  # Example shape\n",
        "fill_value = 7  # Example fill value\n",
        "# creates array with given custom values\n",
        "filled_array = np.full(shape, fill_value)\n",
        "print(filled_array)\n",
        "\n"
      ],
      "metadata": {
        "colab": {
          "base_uri": "https://localhost:8080/"
        },
        "id": "imjLgEmpLxib",
        "outputId": "c9e674b6-8971-4899-d08c-d260deaede49"
      },
      "execution_count": null,
      "outputs": [
        {
          "output_type": "stream",
          "name": "stdout",
          "text": [
            "[[7 7 7]\n",
            " [7 7 7]\n",
            " [7 7 7]]\n"
          ]
        }
      ]
    },
    {
      "cell_type": "code",
      "source": [
        "#4\n",
        "existing_array = np.array([[1, 2], [3, 4]])  # Example existing array\n",
        "# prints data type with same shape filled with 0\n",
        "zeros_like_array = np.zeros_like(existing_array)\n",
        "print(zeros_like_array)\n"
      ],
      "metadata": {
        "colab": {
          "base_uri": "https://localhost:8080/"
        },
        "id": "WAAz0NsHL0hV",
        "outputId": "6d5cd9e5-901e-4a67-9c52-a695e63ed45b"
      },
      "execution_count": null,
      "outputs": [
        {
          "output_type": "stream",
          "name": "stdout",
          "text": [
            "[[0 0]\n",
            " [0 0]]\n"
          ]
        }
      ]
    },
    {
      "cell_type": "code",
      "source": [
        "#5Return a new array of ones with the same shape and type as a given array\n",
        "\n",
        "ones_like_array = np.ones_like(existing_array)\n",
        "print(ones_like_array)\n"
      ],
      "metadata": {
        "colab": {
          "base_uri": "https://localhost:8080/"
        },
        "id": "17NQLgCfL3Fb",
        "outputId": "7a4c54a8-caa2-4047-862c-69c9f9fa6ea1"
      },
      "execution_count": null,
      "outputs": [
        {
          "output_type": "stream",
          "name": "stdout",
          "text": [
            "[[1 1]\n",
            " [1 1]]\n"
          ]
        }
      ]
    },
    {
      "cell_type": "code",
      "source": [
        "#6Convert an existing list to a NumPy array\n",
        "new_list = [1, 2, 3, 4]\n",
        "numpy_array = np.array(new_list)\n",
        "print(numpy_array)\n"
      ],
      "metadata": {
        "colab": {
          "base_uri": "https://localhost:8080/",
          "height": 193
        },
        "id": "q3kGqMY1L987",
        "outputId": "da837abf-3a56-48f0-b1f2-6c3fd03a9db5",
        "collapsed": true
      },
      "execution_count": 4,
      "outputs": [
        {
          "output_type": "error",
          "ename": "NameError",
          "evalue": "name 'np' is not defined",
          "traceback": [
            "\u001b[0;31m---------------------------------------------------------------------------\u001b[0m",
            "\u001b[0;31mNameError\u001b[0m                                 Traceback (most recent call last)",
            "\u001b[0;32m<ipython-input-4-553ce4ec24ca>\u001b[0m in \u001b[0;36m<cell line: 3>\u001b[0;34m()\u001b[0m\n\u001b[1;32m      1\u001b[0m \u001b[0;31m#6Convert an existing list to a NumPy array\u001b[0m\u001b[0;34m\u001b[0m\u001b[0;34m\u001b[0m\u001b[0m\n\u001b[1;32m      2\u001b[0m \u001b[0mnew_list\u001b[0m \u001b[0;34m=\u001b[0m \u001b[0;34m[\u001b[0m\u001b[0;36m1\u001b[0m\u001b[0;34m,\u001b[0m \u001b[0;36m2\u001b[0m\u001b[0;34m,\u001b[0m \u001b[0;36m3\u001b[0m\u001b[0;34m,\u001b[0m \u001b[0;36m4\u001b[0m\u001b[0;34m]\u001b[0m\u001b[0;34m\u001b[0m\u001b[0;34m\u001b[0m\u001b[0m\n\u001b[0;32m----> 3\u001b[0;31m \u001b[0mnumpy_array\u001b[0m \u001b[0;34m=\u001b[0m \u001b[0mnp\u001b[0m\u001b[0;34m.\u001b[0m\u001b[0marray\u001b[0m\u001b[0;34m(\u001b[0m\u001b[0mnew_list\u001b[0m\u001b[0;34m)\u001b[0m\u001b[0;34m\u001b[0m\u001b[0;34m\u001b[0m\u001b[0m\n\u001b[0m\u001b[1;32m      4\u001b[0m \u001b[0mprint\u001b[0m\u001b[0;34m(\u001b[0m\u001b[0mnumpy_array\u001b[0m\u001b[0;34m)\u001b[0m\u001b[0;34m\u001b[0m\u001b[0;34m\u001b[0m\u001b[0m\n",
            "\u001b[0;31mNameError\u001b[0m: name 'np' is not defined"
          ]
        }
      ]
    },
    {
      "cell_type": "code",
      "source": [
        "#4.1.1 Problem - 2: Array Manipulation: Numerical Ranges and Array indexing:\n",
        "#1. Create an array with values ranging from 10 to 49. {Hint:np.arrange()}.\n",
        "import numpy as np\n",
        "\n",
        "array_range = np.arange(10, 50)\n",
        "print(array_range)\n"
      ],
      "metadata": {
        "colab": {
          "base_uri": "https://localhost:8080/"
        },
        "id": "JRzt-gsrL-zK",
        "outputId": "11b3e187-2fff-4bf6-b4fe-6d537699732d"
      },
      "execution_count": null,
      "outputs": [
        {
          "output_type": "stream",
          "name": "stdout",
          "text": [
            "[10 11 12 13 14 15 16 17 18 19 20 21 22 23 24 25 26 27 28 29 30 31 32 33\n",
            " 34 35 36 37 38 39 40 41 42 43 44 45 46 47 48 49]\n"
          ]
        }
      ]
    },
    {
      "cell_type": "code",
      "source": [
        "#2. Create a 3x3 matrix with values ranging from 0 to 8\n",
        "matrix_3x3 = np.arange(0, 9).reshape(3, 3)\n",
        "print(matrix_3x3)\n"
      ],
      "metadata": {
        "colab": {
          "base_uri": "https://localhost:8080/"
        },
        "id": "AJQw_0Q4MLvk",
        "outputId": "1e70b953-e7b7-407b-d225-ac3e5e3935d1"
      },
      "execution_count": null,
      "outputs": [
        {
          "output_type": "stream",
          "name": "stdout",
          "text": [
            "[[0 1 2]\n",
            " [3 4 5]\n",
            " [6 7 8]]\n"
          ]
        }
      ]
    },
    {
      "cell_type": "code",
      "source": [
        "#3. Create a 3x3 identity matrix\n",
        "identity_matrix = np.eye(3)\n",
        "print(identity_matrix)\n"
      ],
      "metadata": {
        "colab": {
          "base_uri": "https://localhost:8080/"
        },
        "id": "0l8wFEQ2MOeV",
        "outputId": "443534d2-0e1d-4d43-fe8f-83cbaafcf173"
      },
      "execution_count": null,
      "outputs": [
        {
          "output_type": "stream",
          "name": "stdout",
          "text": [
            "[[1. 0. 0.]\n",
            " [0. 1. 0.]\n",
            " [0. 0. 1.]]\n"
          ]
        }
      ]
    },
    {
      "cell_type": "code",
      "source": [
        "#4.Create a random array of size 30 value from 0 to 1and find the mean of the array\n",
        "random_array = np.random.random(30)\n",
        "mean_value = random_array.mean()\n",
        "print(\"Mean of the array:\", mean_value)\n"
      ],
      "metadata": {
        "colab": {
          "base_uri": "https://localhost:8080/"
        },
        "id": "s5THB1zEMWez",
        "outputId": "053f573d-6997-42b4-9604-4a4e8f5d4d21"
      },
      "execution_count": null,
      "outputs": [
        {
          "output_type": "stream",
          "name": "stdout",
          "text": [
            "Mean of the array: 0.6295622901826553\n"
          ]
        }
      ]
    },
    {
      "cell_type": "code",
      "source": [
        "#5.Create a 10x10 array with random values and find the minimum and maximum values\n",
        "random_10x10 = np.random.random((10, 10))\n",
        "min_value = random_10x10.min()\n",
        "max_value = random_10x10.max()\n",
        "print(\"Minimum value:\", min_value)\n",
        "print(\"Maximum value:\", max_value)"
      ],
      "metadata": {
        "colab": {
          "base_uri": "https://localhost:8080/"
        },
        "id": "WEJcjRgSMctr",
        "outputId": "ccb482cf-fe96-4453-c0ee-174bacbd211c"
      },
      "execution_count": null,
      "outputs": [
        {
          "output_type": "stream",
          "name": "stdout",
          "text": [
            "Minimum value: 0.014528758413026699\n",
            "Maximum value: 0.9990736779075245\n"
          ]
        }
      ]
    },
    {
      "cell_type": "code",
      "source": [
        "#6.Create a zero array of size 10 and replace the 5th element with 1\n",
        "zero_array = np.zeros(10)\n",
        "zero_array[4] = 1  # Index 4 corresponds to the 5th element\n",
        "print(zero_array)\n"
      ],
      "metadata": {
        "colab": {
          "base_uri": "https://localhost:8080/"
        },
        "id": "iahpelGAMmrr",
        "outputId": "af34441c-2324-4d6d-913d-ca2a43876bcf"
      },
      "execution_count": null,
      "outputs": [
        {
          "output_type": "stream",
          "name": "stdout",
          "text": [
            "[0. 0. 0. 0. 1. 0. 0. 0. 0. 0.]\n"
          ]
        }
      ]
    },
    {
      "cell_type": "code",
      "source": [
        "#7. Reverse an array arr = [1, 2, 0, 0, 4, 0]\n",
        "arr = np.array([1, 2, 0, 0, 4, 0])\n",
        "reversed_arr = arr[::-1]\n",
        "print(reversed_arr)\n"
      ],
      "metadata": {
        "colab": {
          "base_uri": "https://localhost:8080/"
        },
        "id": "_8SAAA1XMzwC",
        "outputId": "b0971d73-fee0-4fab-84ff-2c7a85cdb363"
      },
      "execution_count": null,
      "outputs": [
        {
          "output_type": "stream",
          "name": "stdout",
          "text": [
            "[0 4 0 0 2 1]\n"
          ]
        }
      ]
    },
    {
      "cell_type": "code",
      "source": [
        "#8. Create a 2D array with 1 on the border and 0 inside\n",
        "border_array = np.ones((5, 5))  # Creating a 5x5 array\n",
        "border_array[1:-1, 1:-1] = 0  # Setting inner elements to 0\n",
        "print(border_array)\n"
      ],
      "metadata": {
        "colab": {
          "base_uri": "https://localhost:8080/"
        },
        "id": "3FeLHCJXM3AL",
        "outputId": "9f67b5ea-7205-4481-804f-4317818f6ec9"
      },
      "execution_count": null,
      "outputs": [
        {
          "output_type": "stream",
          "name": "stdout",
          "text": [
            "[[1. 1. 1. 1. 1.]\n",
            " [1. 0. 0. 0. 1.]\n",
            " [1. 0. 0. 0. 1.]\n",
            " [1. 0. 0. 0. 1.]\n",
            " [1. 1. 1. 1. 1.]]\n"
          ]
        }
      ]
    },
    {
      "cell_type": "code",
      "source": [
        "#9. Create an 8x8 matrix and fill it with a checkerboard pattern\n",
        "checkerboard = np.zeros((8, 8))\n",
        "checkerboard[1::2, ::2] = 1  # Fill 1s in even rows\n",
        "checkerboard[::2, 1::2] = 1  # Fill 1s in odd rows\n",
        "print(checkerboard)"
      ],
      "metadata": {
        "colab": {
          "base_uri": "https://localhost:8080/"
        },
        "id": "sF9jCFRUNBUr",
        "outputId": "ac6c5bca-4b0e-413f-d46b-c12844ff6dbf"
      },
      "execution_count": null,
      "outputs": [
        {
          "output_type": "stream",
          "name": "stdout",
          "text": [
            "[[0. 1. 0. 1. 0. 1. 0. 1.]\n",
            " [1. 0. 1. 0. 1. 0. 1. 0.]\n",
            " [0. 1. 0. 1. 0. 1. 0. 1.]\n",
            " [1. 0. 1. 0. 1. 0. 1. 0.]\n",
            " [0. 1. 0. 1. 0. 1. 0. 1.]\n",
            " [1. 0. 1. 0. 1. 0. 1. 0.]\n",
            " [0. 1. 0. 1. 0. 1. 0. 1.]\n",
            " [1. 0. 1. 0. 1. 0. 1. 0.]]\n"
          ]
        }
      ]
    },
    {
      "cell_type": "code",
      "source": [
        "#Problem - 3: Array Operations:\n",
        "#For the following arrays:\n",
        "#x = np.array([[1,2],[3,5]]) and y = np.array([[5,6],[7,8]]);\n",
        "#v = np.array([9,10]) and w = np.array([11,12]);\n",
        "#Complete all the task using numpy:\n",
        "#1. Add the two array.\n",
        "import numpy as np\n",
        "\n",
        "x = np.array([[1, 2], [3, 5]])\n",
        "y = np.array([[5, 6], [7, 8]])\n",
        "v = np.array([9, 10])\n",
        "w = np.array([11, 12])\n",
        "\n",
        "addition_result = x + y\n",
        "print(\"Addition:\\n\", addition_result)\n",
        "\n",
        "\n"
      ],
      "metadata": {
        "colab": {
          "base_uri": "https://localhost:8080/"
        },
        "id": "MNIGW7UHNJor",
        "outputId": "8a6cc0f5-d8a3-4e1c-f5e9-063432af9ba3"
      },
      "execution_count": null,
      "outputs": [
        {
          "output_type": "stream",
          "name": "stdout",
          "text": [
            "Addition:\n",
            " [[ 6  8]\n",
            " [10 13]]\n"
          ]
        }
      ]
    },
    {
      "cell_type": "code",
      "source": [
        "#2. Subtract the two arrays\n",
        "subtraction_result = x - y\n",
        "print(\"Subtraction:\\n\", subtraction_result)\n"
      ],
      "metadata": {
        "colab": {
          "base_uri": "https://localhost:8080/"
        },
        "id": "NLXZDp50NhG7",
        "outputId": "4ee78b0d-df26-4ca8-d27d-6d7963e8aad3"
      },
      "execution_count": null,
      "outputs": [
        {
          "output_type": "stream",
          "name": "stdout",
          "text": [
            "Subtraction:\n",
            " [[-4 -4]\n",
            " [-4 -3]]\n"
          ]
        }
      ]
    },
    {
      "cell_type": "code",
      "source": [
        "#3. Multiply the array with any integers of your choice\n",
        "multiplication_result = x * 2  # Multiplying by 2\n",
        "print(\"Multiplication by 2:\\n\", multiplication_result)"
      ],
      "metadata": {
        "colab": {
          "base_uri": "https://localhost:8080/"
        },
        "id": "sChg1ndBNmjh",
        "outputId": "c4ab0c6e-5050-4fd5-cc9f-b3fd4949178f"
      },
      "execution_count": null,
      "outputs": [
        {
          "output_type": "stream",
          "name": "stdout",
          "text": [
            "Multiplication by 2:\n",
            " [[ 2  4]\n",
            " [ 6 10]]\n"
          ]
        }
      ]
    },
    {
      "cell_type": "code",
      "source": [
        "#4. Find the square of each element of the array\n",
        "squared_result = np.square(x)\n",
        "print(\"Square of each element:\\n\", squared_result)\n"
      ],
      "metadata": {
        "colab": {
          "base_uri": "https://localhost:8080/"
        },
        "id": "UJz9YoLjNsEk",
        "outputId": "3d73f0dd-6c69-4e0e-eb61-2a636814b91d"
      },
      "execution_count": null,
      "outputs": [
        {
          "output_type": "stream",
          "name": "stdout",
          "text": [
            "Square of each element:\n",
            " [[ 1  4]\n",
            " [ 9 25]]\n"
          ]
        }
      ]
    },
    {
      "cell_type": "code",
      "source": [
        "#5. Find the dot product\n",
        "dot_product_vw = np.dot(v, w)  # Dot product of v and w\n",
        "dot_product_xv = np.dot(x, v)  # Dot product of x and v\n",
        "dot_product_xy = np.dot(x, y)  # Dot product of x and y\n",
        "\n",
        "print(\"Dot product v and w:\", dot_product_vw)\n",
        "print(\"Dot product x and v:\\n\", dot_product_xv)\n",
        "print(\"Dot product x and y:\\n\", dot_product_xy)\n"
      ],
      "metadata": {
        "colab": {
          "base_uri": "https://localhost:8080/"
        },
        "id": "Ksvph-CkNxrL",
        "outputId": "57514bff-6a47-4f96-e022-afda48e8bb30"
      },
      "execution_count": null,
      "outputs": [
        {
          "output_type": "stream",
          "name": "stdout",
          "text": [
            "Dot product v and w: 219\n",
            "Dot product x and v:\n",
            " [29 77]\n",
            "Dot product x and y:\n",
            " [[19 22]\n",
            " [50 58]]\n"
          ]
        }
      ]
    },
    {
      "cell_type": "code",
      "source": [
        "#6. Concatenate x and y along row and v and w along column\n",
        "concatenated_xy_row = np.concatenate((x, y), axis=0)  # Concatenate along rows\n",
        "concatenated_vw_column = np.concatenate((v.reshape(-1, 1), w.reshape(-1, 1)), axis=1)  # Reshape and concatenate along columns\n",
        "\n",
        "print(\"Concatenated x and y along rows:\\n\", concatenated_xy_row)\n",
        "print(\"Concatenated v and w along columns:\\n\", concatenated_vw_column)"
      ],
      "metadata": {
        "colab": {
          "base_uri": "https://localhost:8080/"
        },
        "id": "XD8LKjsxN20r",
        "outputId": "b34bbf54-c7a5-4b2e-f142-1cf7cb1d7380"
      },
      "execution_count": null,
      "outputs": [
        {
          "output_type": "stream",
          "name": "stdout",
          "text": [
            "Concatenated x and y along rows:\n",
            " [[1 2]\n",
            " [3 5]\n",
            " [5 6]\n",
            " [7 8]]\n",
            "Concatenated v and w along columns:\n",
            " [[ 9 11]\n",
            " [10 12]]\n"
          ]
        }
      ]
    },
    {
      "cell_type": "code",
      "source": [
        "#7. Concatenate x and v; if you get an error, observe and explain why you got the error\n",
        "try:\n",
        "    concatenated_xv = np.concatenate((x, v.reshape(1, -1)), axis=0)  # Attempt to concatenate\n",
        "except ValueError as e:\n",
        "    print(\"Error:\", e)"
      ],
      "metadata": {
        "id": "bvOtoJLYOB2K"
      },
      "execution_count": null,
      "outputs": []
    },
    {
      "cell_type": "code",
      "source": [
        "#Problem - 4: Matrix Operations:\n",
        "import numpy as np\n",
        "\n",
        "# Given matrices\n",
        "A = np.array([[3, 4], [7, 8]])\n",
        "B = np.array([[5, 3], [2, 1]])\n",
        "\n",
        "# 1. Prove A * A_inv = I\n",
        "A_inv = np.linalg.inv(A)\n",
        "identity_matrix = np.dot(A, A_inv)\n",
        "print(\"A * A_inv:\\n\", identity_matrix)\n",
        "\n",
        "# 2. Prove AB ≠ BA\n",
        "AB = np.dot(A, B)\n",
        "BA = np.dot(B, A)\n",
        "print(\"AB:\\n\", AB)\n",
        "print(\"BA:\\n\", BA)\n",
        "are_equal = np.array_equal(AB, BA)\n",
        "print(\"AB equals BA:\", are_equal)\n",
        "\n",
        "# 3. Prove (AB)^T = B^T A^T\n",
        "AB_transpose = np.transpose(AB)\n",
        "BT_AT = np.dot(np.transpose(B), np.transpose(A))\n",
        "print(\"Transpose of AB:\\n\", AB_transpose)\n",
        "print(\"B^T * A^T:\\n\", BT_AT)\n",
        "is_transpose_equal = np.array_equal(AB_transpose, BT_AT)\n",
        "print(\"Transpose of AB equals B^T * A^T:\", is_transpose_equal)\n",
        "\n",
        "# Solve the system of linear equations\n",
        "A_coeff = np.array([[2, -3, 1],\n",
        "                    [1, -1, 2],\n",
        "                    [3, 1, -1]])\n",
        "B_const = np.array([-1, -3, 9])\n",
        "\n",
        "# Solve for X using Inverse Method\n",
        "X = np.linalg.inv(A_coeff).dot(B_const)\n",
        "print(\"Solution using Inverse Method:\\n\", X)\n"
      ],
      "metadata": {
        "colab": {
          "base_uri": "https://localhost:8080/"
        },
        "id": "Z4FPuz3gOJR5",
        "outputId": "177c4526-722b-4de1-b357-b4912ed23e32"
      },
      "execution_count": null,
      "outputs": [
        {
          "output_type": "stream",
          "name": "stdout",
          "text": [
            "A * A_inv:\n",
            " [[1.00000000e+00 0.00000000e+00]\n",
            " [1.77635684e-15 1.00000000e+00]]\n",
            "AB:\n",
            " [[23 13]\n",
            " [51 29]]\n",
            "BA:\n",
            " [[36 44]\n",
            " [13 16]]\n",
            "AB equals BA: False\n",
            "Transpose of AB:\n",
            " [[23 51]\n",
            " [13 29]]\n",
            "B^T * A^T:\n",
            " [[23 51]\n",
            " [13 29]]\n",
            "Transpose of AB equals B^T * A^T: True\n",
            "Solution using Inverse Method:\n",
            " [ 2.  1. -2.]\n"
          ]
        }
      ]
    }
  ]
}